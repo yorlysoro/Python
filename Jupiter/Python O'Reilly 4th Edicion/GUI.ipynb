{
 "cells": [
  {
   "cell_type": "code",
   "execution_count": 8,
   "metadata": {},
   "outputs": [],
   "source": [
    "from tkinter import *\n",
    "from tkinter.messagebox import showinfo"
   ]
  },
  {
   "cell_type": "code",
   "execution_count": 23,
   "metadata": {},
   "outputs": [],
   "source": [
    "class MyGui(Frame):\n",
    "    def __init__(self, parent=None):\n",
    "        Frame.__init__(self, parent)\n",
    "        button = Button(self, text='press', command=self.reply)\n",
    "        button.pack()\n",
    "    def reply(self):\n",
    "        showinfo(title='popup', message='Button pressed!')\n",
    "class CustomGui(MyGui):\n",
    "    def reply(self):\n",
    "        showinfo(title='popup', message='Ouch!')"
   ]
  },
  {
   "cell_type": "code",
   "execution_count": 25,
   "metadata": {},
   "outputs": [],
   "source": [
    "CustomGui().pack()"
   ]
  },
  {
   "cell_type": "code",
   "execution_count": 26,
   "metadata": {},
   "outputs": [],
   "source": [
    "mainloop()"
   ]
  },
  {
   "cell_type": "code",
   "execution_count": null,
   "metadata": {},
   "outputs": [],
   "source": []
  }
 ],
 "metadata": {
  "kernelspec": {
   "display_name": "Python 3",
   "language": "python",
   "name": "python3"
  },
  "language_info": {
   "codemirror_mode": {
    "name": "ipython",
    "version": 3
   },
   "file_extension": ".py",
   "mimetype": "text/x-python",
   "name": "python",
   "nbconvert_exporter": "python",
   "pygments_lexer": "ipython3",
   "version": "3.7.0"
  }
 },
 "nbformat": 4,
 "nbformat_minor": 2
}
