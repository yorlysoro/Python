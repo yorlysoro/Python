{
 "cells": [
  {
   "cell_type": "code",
   "execution_count": 1,
   "metadata": {},
   "outputs": [],
   "source": [
    "from tkinter import *\n",
    "import random"
   ]
  },
  {
   "cell_type": "code",
   "execution_count": 2,
   "metadata": {},
   "outputs": [],
   "source": [
    "fontsize = 30\n",
    "colors = ['red', 'green', 'blue', 'yellow', 'orange', 'cyan', 'purple']"
   ]
  },
  {
   "cell_type": "code",
   "execution_count": 4,
   "metadata": {},
   "outputs": [],
   "source": [
    "def onSpam():\n",
    "    popup = Toplevel()\n",
    "    color = random.choice(colors)\n",
    "    Label(popup, text='Popup', bg='black', fg=color).pack(fill=BOTH)\n",
    "    mainLabel.config(fg=color)\n",
    "def onFlip():\n",
    "    mainLabel.config(fg=random.choice(colors))\n",
    "    main.after(250, onFlip)\n",
    "def onGrow():\n",
    "    global fontsize\n",
    "    fontsize += 5\n",
    "    mainLabel.config(font=('arial', fontsize, 'italic'))\n",
    "    main.after(100, onGrow)"
   ]
  },
  {
   "cell_type": "code",
   "execution_count": 5,
   "metadata": {},
   "outputs": [],
   "source": [
    "main = Tk()\n",
    "mainLabel = Label(main, text='Fun Gui', relief=RAISED)\n",
    "mainLabel.config(font=('arial', fontsize, 'italic'), fg='cyan', bg='navy')\n",
    "mainLabel.pack(side=TOP, expand=YES, fill=BOTH)\n",
    "Button(main, text='spam', command=onSpam).pack(fill=X)\n",
    "Button(main, text='flip', command=onFlip).pack(fill=X)\n",
    "Button(main, text='grow', command=onGrow).pack(fill=X)\n",
    "main.mainloop()"
   ]
  },
  {
   "cell_type": "code",
   "execution_count": null,
   "metadata": {},
   "outputs": [],
   "source": []
  }
 ],
 "metadata": {
  "kernelspec": {
   "display_name": "Python 3",
   "language": "python",
   "name": "python3"
  },
  "language_info": {
   "codemirror_mode": {
    "name": "ipython",
    "version": 3
   },
   "file_extension": ".py",
   "mimetype": "text/x-python",
   "name": "python",
   "nbconvert_exporter": "python",
   "pygments_lexer": "ipython3",
   "version": "3.7.0"
  }
 },
 "nbformat": 4,
 "nbformat_minor": 2
}
