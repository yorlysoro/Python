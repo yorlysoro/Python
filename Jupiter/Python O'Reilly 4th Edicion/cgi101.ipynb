{
 "cells": [
  {
   "cell_type": "code",
   "execution_count": 1,
   "metadata": {},
   "outputs": [],
   "source": [
    "import cgi"
   ]
  },
  {
   "cell_type": "code",
   "execution_count": 3,
   "metadata": {},
   "outputs": [
    {
     "name": "stdout",
     "output_type": "stream",
     "text": [
      "Content-type: text/html\n",
      "\n",
      "<tittle>Reply Page</title>\n",
      "<h1>Who are you?</h1>\n"
     ]
    }
   ],
   "source": [
    "form = cgi.FieldStorage()\n",
    "print('Content-type: text/html\\n')\n",
    "print('<tittle>Reply Page</title>')\n",
    "if not 'user' in form:\n",
    "    print('<h1>Who are you?</h1>')\n",
    "else:\n",
    "    print('<h1> Hello <i> %s</i>!</h1>' % cig.escape(form['user'].value))"
   ]
  },
  {
   "cell_type": "code",
   "execution_count": null,
   "metadata": {},
   "outputs": [],
   "source": []
  }
 ],
 "metadata": {
  "kernelspec": {
   "display_name": "Python 3",
   "language": "python",
   "name": "python3"
  },
  "language_info": {
   "codemirror_mode": {
    "name": "ipython",
    "version": 3
   },
   "file_extension": ".py",
   "mimetype": "text/x-python",
   "name": "python",
   "nbconvert_exporter": "python",
   "pygments_lexer": "ipython3",
   "version": "3.7.0"
  }
 },
 "nbformat": 4,
 "nbformat_minor": 2
}
