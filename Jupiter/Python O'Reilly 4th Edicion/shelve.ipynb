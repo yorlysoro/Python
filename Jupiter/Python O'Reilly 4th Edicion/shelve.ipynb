{
 "cells": [
  {
   "cell_type": "code",
   "execution_count": 7,
   "metadata": {},
   "outputs": [],
   "source": [
    "import shelve"
   ]
  },
  {
   "cell_type": "code",
   "execution_count": 8,
   "metadata": {},
   "outputs": [],
   "source": [
    "bob = {'name': \"Yorlys Oropeza\", 'pay': 32000, 'age': 24, 'job': \"Programer\"}\n",
    "sue = {'name': \"Sue Jhons\", 'pay': 35000, 'age': 45, 'job' : \"analista\"}"
   ]
  },
  {
   "cell_type": "code",
   "execution_count": 9,
   "metadata": {},
   "outputs": [],
   "source": [
    "db = shelve.open('people_shelve')"
   ]
  },
  {
   "cell_type": "code",
   "execution_count": 10,
   "metadata": {},
   "outputs": [],
   "source": [
    "db['bob'] = bob\n",
    "db['sue'] = sue"
   ]
  },
  {
   "cell_type": "code",
   "execution_count": 11,
   "metadata": {},
   "outputs": [
    {
     "name": "stdout",
     "output_type": "stream",
     "text": [
      "bob =>\n",
      " {'name': 'Yorlys Oropeza', 'pay': 32000, 'age': 24, 'job': 'Programer'}\n",
      "sue =>\n",
      " {'name': 'Sue Jhons', 'pay': 35000, 'age': 45, 'job': 'analista'}\n"
     ]
    }
   ],
   "source": [
    "for key in db:\n",
    "    print(key, \"=>\\n\", db[key])"
   ]
  },
  {
   "cell_type": "code",
   "execution_count": 12,
   "metadata": {},
   "outputs": [],
   "source": [
    "db.close()"
   ]
  },
  {
   "cell_type": "code",
   "execution_count": null,
   "metadata": {},
   "outputs": [],
   "source": []
  }
 ],
 "metadata": {
  "kernelspec": {
   "display_name": "Python 3",
   "language": "python",
   "name": "python3"
  },
  "language_info": {
   "codemirror_mode": {
    "name": "ipython",
    "version": 3
   },
   "file_extension": ".py",
   "mimetype": "text/x-python",
   "name": "python",
   "nbconvert_exporter": "python",
   "pygments_lexer": "ipython3",
   "version": "3.7.0"
  }
 },
 "nbformat": 4,
 "nbformat_minor": 2
}
