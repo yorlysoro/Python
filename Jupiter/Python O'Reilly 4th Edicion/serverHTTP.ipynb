{
 "cells": [
  {
   "cell_type": "code",
   "execution_count": null,
   "metadata": {},
   "outputs": [
    {
     "name": "stderr",
     "output_type": "stream",
     "text": [
      "127.0.0.1 - - [27/Nov/2018 15:59:06] \"GET / HTTP/1.1\" 200 -\n",
      "127.0.0.1 - - [27/Nov/2018 15:59:06] code 404, message File not found\n",
      "127.0.0.1 - - [27/Nov/2018 15:59:06] \"GET /favicon.ico HTTP/1.1\" 404 -\n",
      "127.0.0.1 - - [27/Nov/2018 16:02:15] \"GET / HTTP/1.1\" 200 -\n",
      "127.0.0.1 - - [27/Nov/2018 16:07:15] code 404, message No such CGI script ('/cgi-bin/cgi101.py')\n",
      "127.0.0.1 - - [27/Nov/2018 16:07:15] \"GET /cgi-bin/cgi101.py?user=Yorlys+Oro HTTP/1.1\" 404 -\n",
      "127.0.0.1 - - [27/Nov/2018 16:07:23] \"GET /cgi101.py?user=Yorlys+Oro HTTP/1.1\" 200 -\n",
      "127.0.0.1 - - [27/Nov/2018 16:09:08] \"GET /cgi101.py?user=Yorlys+Oro HTTP/1.1\" 304 -\n",
      "127.0.0.1 - - [27/Nov/2018 16:12:06] \"GET /cgi101.py?user=Yorlys+Oro HTTP/1.1\" 200 -\n",
      "127.0.0.1 - - [27/Nov/2018 16:16:13] \"GET /cgi101.py?user=Yorlys+Oro HTTP/1.1\" 304 -\n",
      "127.0.0.1 - - [27/Nov/2018 16:16:16] \"GET /cgi101.py HTTP/1.1\" 200 -\n",
      "127.0.0.1 - - [27/Nov/2018 16:17:23] \"GET /cgi101.py HTTP/1.1\" 304 -\n",
      "127.0.0.1 - - [27/Nov/2018 16:19:21] \"GET / HTTP/1.1\" 200 -\n",
      "127.0.0.1 - - [27/Nov/2018 16:19:23] \"GET /cgi101.py HTTP/1.1\" 304 -\n",
      "127.0.0.1 - - [27/Nov/2018 16:19:25] \"GET /cgi101.html HTTP/1.1\" 200 -\n",
      "127.0.0.1 - - [27/Nov/2018 16:19:26] code 501, message Can only POST to CGI scripts\n",
      "127.0.0.1 - - [27/Nov/2018 16:19:26] \"POST /cgi101.py HTTP/1.1\" 501 -\n",
      "127.0.0.1 - - [27/Nov/2018 16:19:41] code 501, message Can only POST to CGI scripts\n",
      "127.0.0.1 - - [27/Nov/2018 16:19:41] \"POST /cgi101.py HTTP/1.1\" 501 -\n",
      "127.0.0.1 - - [27/Nov/2018 16:45:04] \"GET /cgi101.py?user=Yorlys+Oro HTTP/1.1\" 304 -\n",
      "127.0.0.1 - - [27/Nov/2018 16:45:10] \"GET / HTTP/1.1\" 200 -\n",
      "127.0.0.1 - - [27/Nov/2018 16:45:18] \"GET /cgi101.html HTTP/1.1\" 304 -\n",
      "127.0.0.1 - - [27/Nov/2018 16:45:23] code 501, message Can only POST to CGI scripts\n",
      "127.0.0.1 - - [27/Nov/2018 16:45:23] \"POST /cgi101.py HTTP/1.1\" 501 -\n",
      "127.0.0.1 - - [27/Nov/2018 16:46:27] \"GET / HTTP/1.1\" 200 -\n",
      "127.0.0.1 - - [27/Nov/2018 16:46:31] \"GET /cgi101.py HTTP/1.1\" 200 -\n",
      "127.0.0.1 - - [27/Nov/2018 16:46:34] code 501, message Can only POST to CGI scripts\n",
      "127.0.0.1 - - [27/Nov/2018 16:46:34] \"POST /cgi101.py HTTP/1.1\" 501 -\n"
     ]
    }
   ],
   "source": [
    "from http.server import HTTPServer, CGIHTTPRequestHandler\n",
    "import os, sys\n",
    "webdir = '.'\n",
    "port = 80\n",
    "\n",
    "os.chdir(webdir)\n",
    "srvraddr = (\"\", port)\n",
    "srvrobj = HTTPServer(srvraddr, CGIHTTPRequestHandler)\n",
    "srvrobj.serve_forever()"
   ]
  },
  {
   "cell_type": "code",
   "execution_count": null,
   "metadata": {},
   "outputs": [],
   "source": []
  }
 ],
 "metadata": {
  "kernelspec": {
   "display_name": "Python 3",
   "language": "python",
   "name": "python3"
  },
  "language_info": {
   "codemirror_mode": {
    "name": "ipython",
    "version": 3
   },
   "file_extension": ".py",
   "mimetype": "text/x-python",
   "name": "python",
   "nbconvert_exporter": "python",
   "pygments_lexer": "ipython3",
   "version": "3.7.0"
  }
 },
 "nbformat": 4,
 "nbformat_minor": 2
}
