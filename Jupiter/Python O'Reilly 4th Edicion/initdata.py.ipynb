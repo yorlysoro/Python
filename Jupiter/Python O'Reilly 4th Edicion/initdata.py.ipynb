{
 "cells": [
  {
   "cell_type": "code",
   "execution_count": 1,
   "metadata": {},
   "outputs": [],
   "source": [
    "bob = {'name': \"Yorlys Oropeza\", 'pay': 32000, 'age': 24, 'job': \"Programer\"}"
   ]
  },
  {
   "cell_type": "code",
   "execution_count": 2,
   "metadata": {},
   "outputs": [],
   "source": [
    "sue = {'name': \"Sue Jhons\", 'pay': 35000, 'age': 45, 'job' : \"analista\"}"
   ]
  },
  {
   "cell_type": "code",
   "execution_count": 3,
   "metadata": {},
   "outputs": [],
   "source": [
    "db = {}"
   ]
  },
  {
   "cell_type": "code",
   "execution_count": 4,
   "metadata": {},
   "outputs": [],
   "source": [
    "db['bob'] = bob"
   ]
  },
  {
   "cell_type": "code",
   "execution_count": 5,
   "metadata": {},
   "outputs": [],
   "source": [
    "db['sue'] = sue"
   ]
  },
  {
   "cell_type": "code",
   "execution_count": 6,
   "metadata": {},
   "outputs": [
    {
     "name": "stdout",
     "output_type": "stream",
     "text": [
      "bob => {'bob': {'name': 'Yorlys Oropeza', 'pay': 32000, 'age': 24, 'job': 'Programer'}, 'sue': {'name': 'Sue Jhons', 'pay': 35000, 'age': 45, 'job': 'analista'}}\n",
      "sue => {'bob': {'name': 'Yorlys Oropeza', 'pay': 32000, 'age': 24, 'job': 'Programer'}, 'sue': {'name': 'Sue Jhons', 'pay': 35000, 'age': 45, 'job': 'analista'}}\n"
     ]
    }
   ],
   "source": [
    "for key in db:\n",
    "    print(key, \"=>\", db)"
   ]
  },
  {
   "cell_type": "code",
   "execution_count": null,
   "metadata": {},
   "outputs": [],
   "source": []
  }
 ],
 "metadata": {
  "kernelspec": {
   "display_name": "Python 3",
   "language": "python",
   "name": "python3"
  },
  "language_info": {
   "codemirror_mode": {
    "name": "ipython",
    "version": 3
   },
   "file_extension": ".py",
   "mimetype": "text/x-python",
   "name": "python",
   "nbconvert_exporter": "python",
   "pygments_lexer": "ipython3",
   "version": "3.7.0"
  }
 },
 "nbformat": 4,
 "nbformat_minor": 2
}
