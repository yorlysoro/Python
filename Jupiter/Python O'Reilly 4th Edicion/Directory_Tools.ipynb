{
 "cells": [
  {
   "cell_type": "code",
   "execution_count": 54,
   "metadata": {},
   "outputs": [],
   "source": [
    "file = open('spam.txt', 'w')"
   ]
  },
  {
   "cell_type": "code",
   "execution_count": 55,
   "metadata": {},
   "outputs": [
    {
     "data": {
      "text/plain": [
       "21"
      ]
     },
     "execution_count": 55,
     "metadata": {},
     "output_type": "execute_result"
    }
   ],
   "source": [
    "file.write(('spam' * 5) +'\\n')"
   ]
  },
  {
   "cell_type": "code",
   "execution_count": 56,
   "metadata": {},
   "outputs": [],
   "source": [
    "file.close()"
   ]
  },
  {
   "cell_type": "code",
   "execution_count": 57,
   "metadata": {},
   "outputs": [],
   "source": [
    "file = open('spam.txt')"
   ]
  },
  {
   "cell_type": "code",
   "execution_count": 58,
   "metadata": {},
   "outputs": [
    {
     "data": {
      "text/plain": [
       "'spamspamspamspamspam\\n'"
      ]
     },
     "execution_count": 58,
     "metadata": {},
     "output_type": "execute_result"
    }
   ],
   "source": [
    "file.read()"
   ]
  },
  {
   "cell_type": "code",
   "execution_count": 59,
   "metadata": {},
   "outputs": [],
   "source": [
    "file.close()"
   ]
  },
  {
   "cell_type": "code",
   "execution_count": 1,
   "metadata": {},
   "outputs": [],
   "source": [
    "import os"
   ]
  },
  {
   "cell_type": "code",
   "execution_count": 61,
   "metadata": {},
   "outputs": [
    {
     "data": {
      "text/plain": [
       "4956"
      ]
     },
     "execution_count": 61,
     "metadata": {},
     "output_type": "execute_result"
    }
   ],
   "source": [
    "os.getpid()"
   ]
  },
  {
   "cell_type": "code",
   "execution_count": 62,
   "metadata": {},
   "outputs": [
    {
     "data": {
      "text/plain": [
       "\"C:\\\\Users\\\\giovanni\\\\Documents\\\\Jupiter\\\\Python O'Reilly 4th Edicion\""
      ]
     },
     "execution_count": 62,
     "metadata": {},
     "output_type": "execute_result"
    }
   ],
   "source": [
    "os.getcwd()"
   ]
  },
  {
   "cell_type": "code",
   "execution_count": 63,
   "metadata": {},
   "outputs": [
    {
     "name": "stderr",
     "output_type": "stream",
     "text": [
      "C:\\ProgramData\\Anaconda3\\lib\\site-packages\\ipykernel_launcher.py:1: DeprecationWarning: The Windows bytes API has been deprecated, use Unicode filenames instead\n",
      "  \"\"\"Entry point for launching an IPython kernel.\n"
     ]
    },
    {
     "data": {
      "text/plain": [
       "b\"C:\\\\Users\\\\giovanni\\\\Documents\\\\Jupiter\\\\Python O'Reilly 4th Edicion\""
      ]
     },
     "execution_count": 63,
     "metadata": {},
     "output_type": "execute_result"
    }
   ],
   "source": [
    "os.getcwdb()"
   ]
  },
  {
   "cell_type": "code",
   "execution_count": 65,
   "metadata": {},
   "outputs": [
    {
     "data": {
      "text/plain": [
       "0"
      ]
     },
     "execution_count": 65,
     "metadata": {},
     "output_type": "execute_result"
    }
   ],
   "source": [
    "os.system('dir /B' )"
   ]
  },
  {
   "cell_type": "code",
   "execution_count": 3,
   "metadata": {},
   "outputs": [
    {
     "ename": "TypeError",
     "evalue": "walk() missing 1 required positional argument: 'top'",
     "output_type": "error",
     "traceback": [
      "\u001b[1;31m---------------------------------------------------------------------------\u001b[0m",
      "\u001b[1;31mTypeError\u001b[0m                                 Traceback (most recent call last)",
      "\u001b[1;32m<ipython-input-3-7f906606989b>\u001b[0m in \u001b[0;36m<module>\u001b[1;34m()\u001b[0m\n\u001b[1;32m----> 1\u001b[1;33m \u001b[0mos\u001b[0m\u001b[1;33m.\u001b[0m\u001b[0mwalk\u001b[0m\u001b[1;33m(\u001b[0m\u001b[1;33m)\u001b[0m\u001b[1;33m\u001b[0m\u001b[0m\n\u001b[0m",
      "\u001b[1;31mTypeError\u001b[0m: walk() missing 1 required positional argument: 'top'"
     ]
    }
   ],
   "source": [
    "os.walk()"
   ]
  },
  {
   "cell_type": "code",
   "execution_count": 2,
   "metadata": {},
   "outputs": [
    {
     "data": {
      "text/plain": [
       "['.ipynb_checkpoints',\n",
       " 'cgi101.html',\n",
       " 'cgi101.ipynb',\n",
       " 'cgi101.py',\n",
       " 'class-shelve.bak',\n",
       " 'class-shelve.dat',\n",
       " 'class-shelve.dir',\n",
       " 'FUN_GUI.ipynb',\n",
       " 'GUI.ipynb',\n",
       " 'GUI2.ipynb',\n",
       " 'initdata.py.ipynb',\n",
       " 'OOP.ipynb',\n",
       " 'people_shelve.bak',\n",
       " 'people_shelve.dat',\n",
       " 'people_shelve.dir',\n",
       " 'pickle.ipynb',\n",
       " 'pickle_people',\n",
       " 'python.ipynb',\n",
       " 'python2.ipynb',\n",
       " 'serverHTTP.ipynb',\n",
       " 'shelve.ipynb',\n",
       " 'spam.txt',\n",
       " 'Untitled.ipynb',\n",
       " 'Untitled1.ipynb',\n",
       " '__pycache__']"
      ]
     },
     "execution_count": 2,
     "metadata": {},
     "output_type": "execute_result"
    }
   ],
   "source": [
    "os.listdir('.')"
   ]
  },
  {
   "cell_type": "code",
   "execution_count": 3,
   "metadata": {},
   "outputs": [
    {
     "data": {
      "text/plain": [
       "['.ipynb_checkpoints',\n",
       " 'cgi101.html',\n",
       " 'cgi101.ipynb',\n",
       " 'cgi101.py',\n",
       " 'class-shelve.bak',\n",
       " 'class-shelve.dat',\n",
       " 'class-shelve.dir',\n",
       " 'FUN_GUI.ipynb',\n",
       " 'GUI.ipynb',\n",
       " 'GUI2.ipynb',\n",
       " 'initdata.py.ipynb',\n",
       " 'OOP.ipynb',\n",
       " 'people_shelve.bak',\n",
       " 'people_shelve.dat',\n",
       " 'people_shelve.dir',\n",
       " 'pickle.ipynb',\n",
       " 'pickle_people',\n",
       " 'python.ipynb',\n",
       " 'python2.ipynb',\n",
       " 'serverHTTP.ipynb',\n",
       " 'shelve.ipynb',\n",
       " 'spam.txt',\n",
       " 'Untitled.ipynb',\n",
       " 'Untitled1.ipynb',\n",
       " '__pycache__']"
      ]
     },
     "execution_count": 3,
     "metadata": {},
     "output_type": "execute_result"
    }
   ],
   "source": [
    "os.listdir(os.curdir)"
   ]
  },
  {
   "cell_type": "code",
   "execution_count": 4,
   "metadata": {},
   "outputs": [
    {
     "name": "stdout",
     "output_type": "stream",
     "text": [
      "[.]\n",
      ".\\cgi101.html\n",
      ".\\cgi101.ipynb\n",
      ".\\cgi101.py\n",
      ".\\class-shelve.bak\n",
      ".\\class-shelve.dat\n",
      ".\\class-shelve.dir\n",
      ".\\FUN_GUI.ipynb\n",
      ".\\GUI.ipynb\n",
      ".\\GUI2.ipynb\n",
      ".\\initdata.py.ipynb\n",
      ".\\OOP.ipynb\n",
      ".\\people_shelve.bak\n",
      ".\\people_shelve.dat\n",
      ".\\people_shelve.dir\n",
      ".\\pickle.ipynb\n",
      ".\\pickle_people\n",
      ".\\python.ipynb\n",
      ".\\python2.ipynb\n",
      ".\\serverHTTP.ipynb\n",
      ".\\shelve.ipynb\n",
      ".\\spam.txt\n",
      ".\\Untitled.ipynb\n",
      ".\\Untitled1.ipynb\n",
      "[.\\.ipynb_checkpoints]\n",
      ".\\.ipynb_checkpoints\\cgi101-checkpoint.ipynb\n",
      ".\\.ipynb_checkpoints\\cgi101-checkpoint.py\n",
      ".\\.ipynb_checkpoints\\FUN_GUI-checkpoint.ipynb\n",
      ".\\.ipynb_checkpoints\\GUI-checkpoint.ipynb\n",
      ".\\.ipynb_checkpoints\\GUI2-checkpoint.ipynb\n",
      ".\\.ipynb_checkpoints\\initdata.py-checkpoint.ipynb\n",
      ".\\.ipynb_checkpoints\\OOP-checkpoint.ipynb\n",
      ".\\.ipynb_checkpoints\\pickle-checkpoint.ipynb\n",
      ".\\.ipynb_checkpoints\\python-checkpoint.ipynb\n",
      ".\\.ipynb_checkpoints\\python2-checkpoint.ipynb\n",
      ".\\.ipynb_checkpoints\\serverHTTP-checkpoint.ipynb\n",
      ".\\.ipynb_checkpoints\\shelve-checkpoint.ipynb\n",
      ".\\.ipynb_checkpoints\\Untitled-checkpoint.ipynb\n",
      ".\\.ipynb_checkpoints\\Untitled1-checkpoint.ipynb\n",
      "[.\\__pycache__]\n",
      ".\\__pycache__\\cgi101.cpython-37.pyc\n"
     ]
    }
   ],
   "source": [
    "for (dirname, subshere, fileshere) in os.walk('.'):\n",
    "    print('[' + dirname + ']')\n",
    "    for fname in fileshere:\n",
    "        print(os.path.join(dirname, fname))"
   ]
  },
  {
   "cell_type": "code",
   "execution_count": 5,
   "metadata": {},
   "outputs": [],
   "source": [
    "import sys"
   ]
  },
  {
   "cell_type": "code",
   "execution_count": 6,
   "metadata": {},
   "outputs": [
    {
     "data": {
      "text/plain": [
       "'utf-8'"
      ]
     },
     "execution_count": 6,
     "metadata": {},
     "output_type": "execute_result"
    }
   ],
   "source": [
    "sys.getdefaultencoding()"
   ]
  },
  {
   "cell_type": "code",
   "execution_count": 7,
   "metadata": {},
   "outputs": [
    {
     "data": {
      "text/plain": [
       "'utf-8'"
      ]
     },
     "execution_count": 7,
     "metadata": {},
     "output_type": "execute_result"
    }
   ],
   "source": [
    "sys.getfilesystemencoding()"
   ]
  },
  {
   "cell_type": "code",
   "execution_count": null,
   "metadata": {},
   "outputs": [],
   "source": []
  }
 ],
 "metadata": {
  "kernelspec": {
   "display_name": "Python 3",
   "language": "python",
   "name": "python3"
  },
  "language_info": {
   "codemirror_mode": {
    "name": "ipython",
    "version": 3
   },
   "file_extension": ".py",
   "mimetype": "text/x-python",
   "name": "python",
   "nbconvert_exporter": "python",
   "pygments_lexer": "ipython3",
   "version": "3.7.0"
  }
 },
 "nbformat": 4,
 "nbformat_minor": 2
}
